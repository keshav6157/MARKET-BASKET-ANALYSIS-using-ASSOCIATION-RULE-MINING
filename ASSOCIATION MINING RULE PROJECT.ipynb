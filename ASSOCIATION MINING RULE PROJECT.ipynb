{
 "cells": [
  {
   "cell_type": "code",
   "execution_count": 2,
   "id": "proprietary-antique",
   "metadata": {},
   "outputs": [
    {
     "name": "stdout",
     "output_type": "stream",
     "text": [
      "Collecting mlxtend"
     ]
    },
    {
     "name": "stderr",
     "output_type": "stream",
     "text": [
      "WARNING: You are using pip version 21.1.3; however, version 21.2.3 is available.\n",
      "You should consider upgrading via the 'c:\\users\\keshav anand\\appdata\\local\\programs\\python\\python37\\python.exe -m pip install --upgrade pip' command.\n"
     ]
    },
    {
     "name": "stdout",
     "output_type": "stream",
     "text": [
      "\n",
      "  Downloading mlxtend-0.18.0-py2.py3-none-any.whl (1.3 MB)\n",
      "Requirement already satisfied: joblib>=0.13.2 in c:\\users\\keshav anand\\appdata\\local\\programs\\python\\python37\\lib\\site-packages (from mlxtend) (1.0.1)\n",
      "Requirement already satisfied: numpy>=1.16.2 in c:\\users\\keshav anand\\appdata\\roaming\\python\\python37\\site-packages (from mlxtend) (1.20.1)\n",
      "Requirement already satisfied: scipy>=1.2.1 in c:\\users\\keshav anand\\appdata\\local\\programs\\python\\python37\\lib\\site-packages (from mlxtend) (1.7.1)\n",
      "Requirement already satisfied: setuptools in c:\\users\\keshav anand\\appdata\\local\\programs\\python\\python37\\lib\\site-packages (from mlxtend) (40.8.0)\n",
      "Requirement already satisfied: matplotlib>=3.0.0 in c:\\users\\keshav anand\\appdata\\local\\programs\\python\\python37\\lib\\site-packages (from mlxtend) (3.4.2)\n",
      "Requirement already satisfied: pandas>=0.24.2 in c:\\users\\keshav anand\\appdata\\roaming\\python\\python37\\site-packages (from mlxtend) (1.2.3)\n",
      "Requirement already satisfied: scikit-learn>=0.20.3 in c:\\users\\keshav anand\\appdata\\local\\programs\\python\\python37\\lib\\site-packages (from mlxtend) (0.24.2)\n",
      "Requirement already satisfied: kiwisolver>=1.0.1 in c:\\users\\keshav anand\\appdata\\local\\programs\\python\\python37\\lib\\site-packages (from matplotlib>=3.0.0->mlxtend) (1.3.1)\n",
      "Requirement already satisfied: pillow>=6.2.0 in c:\\users\\keshav anand\\appdata\\local\\programs\\python\\python37\\lib\\site-packages (from matplotlib>=3.0.0->mlxtend) (8.3.1)\n",
      "Requirement already satisfied: cycler>=0.10 in c:\\users\\keshav anand\\appdata\\local\\programs\\python\\python37\\lib\\site-packages (from matplotlib>=3.0.0->mlxtend) (0.10.0)\n",
      "Requirement already satisfied: python-dateutil>=2.7 in c:\\users\\keshav anand\\appdata\\roaming\\python\\python37\\site-packages (from matplotlib>=3.0.0->mlxtend) (2.8.1)\n",
      "Requirement already satisfied: pyparsing>=2.2.1 in c:\\users\\keshav anand\\appdata\\local\\programs\\python\\python37\\lib\\site-packages (from matplotlib>=3.0.0->mlxtend) (2.4.7)\n",
      "Requirement already satisfied: six in c:\\users\\keshav anand\\appdata\\roaming\\python\\python37\\site-packages (from cycler>=0.10->matplotlib>=3.0.0->mlxtend) (1.15.0)\n",
      "Requirement already satisfied: pytz>=2017.3 in c:\\users\\keshav anand\\appdata\\roaming\\python\\python37\\site-packages (from pandas>=0.24.2->mlxtend) (2021.1)\n",
      "Requirement already satisfied: threadpoolctl>=2.0.0 in c:\\users\\keshav anand\\appdata\\local\\programs\\python\\python37\\lib\\site-packages (from scikit-learn>=0.20.3->mlxtend) (2.2.0)\n",
      "Installing collected packages: mlxtend\n",
      "Successfully installed mlxtend-0.18.0\n"
     ]
    }
   ],
   "source": [
    "! pip install mlxtend"
   ]
  },
  {
   "cell_type": "code",
   "execution_count": 18,
   "id": "residential-mattress",
   "metadata": {},
   "outputs": [],
   "source": [
    "import numpy as np\n",
    "import pandas as pd\n",
    "from mlxtend.frequent_patterns import apriori, association_rules"
   ]
  },
  {
   "cell_type": "code",
   "execution_count": 6,
   "id": "explicit-attention",
   "metadata": {},
   "outputs": [
    {
     "data": {
      "text/plain": [
       "(21293, 4)"
      ]
     },
     "execution_count": 6,
     "metadata": {},
     "output_type": "execute_result"
    }
   ],
   "source": [
    "df = pd.read_excel(\"BreadBasket_DMS.xlsx\")\n",
    "df.shape"
   ]
  },
  {
   "cell_type": "code",
   "execution_count": 5,
   "id": "failing-crazy",
   "metadata": {},
   "outputs": [
    {
     "data": {
      "text/plain": [
       "Index(['Transaction', 'Item', 'date_time', 'period_day', 'weekday_weekend'], dtype='object')"
      ]
     },
     "execution_count": 5,
     "metadata": {},
     "output_type": "execute_result"
    }
   ],
   "source": [
    "df.columns"
   ]
  },
  {
   "cell_type": "code",
   "execution_count": 11,
   "id": "dominican-disposal",
   "metadata": {},
   "outputs": [],
   "source": [
    "df1 = df.loc[df[\"Item\"] == \"None\", :]"
   ]
  },
  {
   "cell_type": "code",
   "execution_count": 12,
   "id": "reserved-japan",
   "metadata": {},
   "outputs": [],
   "source": [
    "df.drop(df1.index, axis = 0, inplace = True)"
   ]
  },
  {
   "cell_type": "code",
   "execution_count": 13,
   "id": "technological-enzyme",
   "metadata": {},
   "outputs": [
    {
     "data": {
      "text/plain": [
       "(21293, 4)"
      ]
     },
     "execution_count": 13,
     "metadata": {},
     "output_type": "execute_result"
    }
   ],
   "source": [
    "df.shape"
   ]
  },
  {
   "cell_type": "code",
   "execution_count": 15,
   "id": "rough-extraction",
   "metadata": {},
   "outputs": [],
   "source": [
    "hot_encoded_df = df.groupby([\"Transaction\", \"Item\"])[\"Item\"].count().unstack().reset_index().fillna(0).set_index(\"Transaction\")"
   ]
  },
  {
   "cell_type": "code",
   "execution_count": 16,
   "id": "legitimate-institute",
   "metadata": {},
   "outputs": [],
   "source": [
    "def encode_units(x):\n",
    "    if x <= 0:\n",
    "        return 0\n",
    "    else:\n",
    "        return 1"
   ]
  },
  {
   "cell_type": "code",
   "execution_count": 17,
   "id": "ignored-three",
   "metadata": {},
   "outputs": [
    {
     "data": {
      "text/plain": [
       "(9531, 95)"
      ]
     },
     "execution_count": 17,
     "metadata": {},
     "output_type": "execute_result"
    }
   ],
   "source": [
    "hot_encoded_df = hot_encoded_df.applymap(encode_units)\n",
    "hot_encoded_df.shape"
   ]
  },
  {
   "cell_type": "code",
   "execution_count": 19,
   "id": "enormous-capture",
   "metadata": {},
   "outputs": [
    {
     "data": {
      "text/html": [
       "<div>\n",
       "<style scoped>\n",
       "    .dataframe tbody tr th:only-of-type {\n",
       "        vertical-align: middle;\n",
       "    }\n",
       "\n",
       "    .dataframe tbody tr th {\n",
       "        vertical-align: top;\n",
       "    }\n",
       "\n",
       "    .dataframe thead th {\n",
       "        text-align: right;\n",
       "    }\n",
       "</style>\n",
       "<table border=\"1\" class=\"dataframe\">\n",
       "  <thead>\n",
       "    <tr style=\"text-align: right;\">\n",
       "      <th></th>\n",
       "      <th>support</th>\n",
       "      <th>itemsets</th>\n",
       "    </tr>\n",
       "  </thead>\n",
       "  <tbody>\n",
       "    <tr>\n",
       "      <th>0</th>\n",
       "      <td>0.036093</td>\n",
       "      <td>(Alfajores)</td>\n",
       "    </tr>\n",
       "    <tr>\n",
       "      <th>1</th>\n",
       "      <td>0.015948</td>\n",
       "      <td>(Baguette)</td>\n",
       "    </tr>\n",
       "    <tr>\n",
       "      <th>2</th>\n",
       "      <td>0.005036</td>\n",
       "      <td>(Bakewell)</td>\n",
       "    </tr>\n",
       "    <tr>\n",
       "      <th>3</th>\n",
       "      <td>0.324940</td>\n",
       "      <td>(Bread)</td>\n",
       "    </tr>\n",
       "    <tr>\n",
       "      <th>4</th>\n",
       "      <td>0.039765</td>\n",
       "      <td>(Brownie)</td>\n",
       "    </tr>\n",
       "    <tr>\n",
       "      <th>...</th>\n",
       "      <td>...</td>\n",
       "      <td>...</td>\n",
       "    </tr>\n",
       "    <tr>\n",
       "      <th>120</th>\n",
       "      <td>0.006820</td>\n",
       "      <td>(Coffee, Cake, Hot chocolate)</td>\n",
       "    </tr>\n",
       "    <tr>\n",
       "      <th>121</th>\n",
       "      <td>0.009967</td>\n",
       "      <td>(Coffee, Tea, Cake)</td>\n",
       "    </tr>\n",
       "    <tr>\n",
       "      <th>122</th>\n",
       "      <td>0.005141</td>\n",
       "      <td>(Coffee, NONE, Sandwich)</td>\n",
       "    </tr>\n",
       "    <tr>\n",
       "      <th>123</th>\n",
       "      <td>0.005876</td>\n",
       "      <td>(Coffee, NONE, Tea)</td>\n",
       "    </tr>\n",
       "    <tr>\n",
       "      <th>124</th>\n",
       "      <td>0.005351</td>\n",
       "      <td>(Coffee, Sandwich, Tea)</td>\n",
       "    </tr>\n",
       "  </tbody>\n",
       "</table>\n",
       "<p>125 rows × 2 columns</p>\n",
       "</div>"
      ],
      "text/plain": [
       "      support                       itemsets\n",
       "0    0.036093                    (Alfajores)\n",
       "1    0.015948                     (Baguette)\n",
       "2    0.005036                     (Bakewell)\n",
       "3    0.324940                        (Bread)\n",
       "4    0.039765                      (Brownie)\n",
       "..        ...                            ...\n",
       "120  0.006820  (Coffee, Cake, Hot chocolate)\n",
       "121  0.009967            (Coffee, Tea, Cake)\n",
       "122  0.005141       (Coffee, NONE, Sandwich)\n",
       "123  0.005876            (Coffee, NONE, Tea)\n",
       "124  0.005351        (Coffee, Sandwich, Tea)\n",
       "\n",
       "[125 rows x 2 columns]"
      ]
     },
     "execution_count": 19,
     "metadata": {},
     "output_type": "execute_result"
    }
   ],
   "source": [
    "freq_itemsets = apriori(hot_encoded_df, min_support = 0.005, use_colnames = True)\n",
    "freq_itemsets"
   ]
  },
  {
   "cell_type": "code",
   "execution_count": 20,
   "id": "moved-cathedral",
   "metadata": {},
   "outputs": [
    {
     "data": {
      "text/plain": [
       "(27, 9)"
      ]
     },
     "execution_count": 20,
     "metadata": {},
     "output_type": "execute_result"
    }
   ],
   "source": [
    "rules = association_rules(freq_itemsets, metric = \"confidence\", min_threshold = 0.4)\n",
    "rules.shape"
   ]
  },
  {
   "cell_type": "code",
   "execution_count": 23,
   "id": "recorded-combining",
   "metadata": {},
   "outputs": [
    {
     "data": {
      "text/html": [
       "<div>\n",
       "<style scoped>\n",
       "    .dataframe tbody tr th:only-of-type {\n",
       "        vertical-align: middle;\n",
       "    }\n",
       "\n",
       "    .dataframe tbody tr th {\n",
       "        vertical-align: top;\n",
       "    }\n",
       "\n",
       "    .dataframe thead th {\n",
       "        text-align: right;\n",
       "    }\n",
       "</style>\n",
       "<table border=\"1\" class=\"dataframe\">\n",
       "  <thead>\n",
       "    <tr style=\"text-align: right;\">\n",
       "      <th></th>\n",
       "      <th>antecedents</th>\n",
       "      <th>consequents</th>\n",
       "      <th>antecedent support</th>\n",
       "      <th>consequent support</th>\n",
       "      <th>support</th>\n",
       "      <th>confidence</th>\n",
       "      <th>lift</th>\n",
       "      <th>leverage</th>\n",
       "      <th>conviction</th>\n",
       "    </tr>\n",
       "  </thead>\n",
       "  <tbody>\n",
       "    <tr>\n",
       "      <th>2</th>\n",
       "      <td>(Cake)</td>\n",
       "      <td>(Coffee)</td>\n",
       "      <td>0.103137</td>\n",
       "      <td>0.475081</td>\n",
       "      <td>0.054349</td>\n",
       "      <td>0.526958</td>\n",
       "      <td>1.109196</td>\n",
       "      <td>0.005350</td>\n",
       "      <td>1.109667</td>\n",
       "    </tr>\n",
       "    <tr>\n",
       "      <th>7</th>\n",
       "      <td>(Juice)</td>\n",
       "      <td>(Coffee)</td>\n",
       "      <td>0.038296</td>\n",
       "      <td>0.475081</td>\n",
       "      <td>0.020460</td>\n",
       "      <td>0.534247</td>\n",
       "      <td>1.124537</td>\n",
       "      <td>0.002266</td>\n",
       "      <td>1.127031</td>\n",
       "    </tr>\n",
       "    <tr>\n",
       "      <th>9</th>\n",
       "      <td>(Medialuna)</td>\n",
       "      <td>(Coffee)</td>\n",
       "      <td>0.061379</td>\n",
       "      <td>0.475081</td>\n",
       "      <td>0.034939</td>\n",
       "      <td>0.569231</td>\n",
       "      <td>1.198175</td>\n",
       "      <td>0.005779</td>\n",
       "      <td>1.218561</td>\n",
       "    </tr>\n",
       "    <tr>\n",
       "      <th>11</th>\n",
       "      <td>(NONE)</td>\n",
       "      <td>(Coffee)</td>\n",
       "      <td>0.079005</td>\n",
       "      <td>0.475081</td>\n",
       "      <td>0.042073</td>\n",
       "      <td>0.532537</td>\n",
       "      <td>1.120938</td>\n",
       "      <td>0.004539</td>\n",
       "      <td>1.122908</td>\n",
       "    </tr>\n",
       "    <tr>\n",
       "      <th>12</th>\n",
       "      <td>(Pastry)</td>\n",
       "      <td>(Coffee)</td>\n",
       "      <td>0.085510</td>\n",
       "      <td>0.475081</td>\n",
       "      <td>0.047214</td>\n",
       "      <td>0.552147</td>\n",
       "      <td>1.162216</td>\n",
       "      <td>0.006590</td>\n",
       "      <td>1.172079</td>\n",
       "    </tr>\n",
       "    <tr>\n",
       "      <th>14</th>\n",
       "      <td>(Sandwich)</td>\n",
       "      <td>(Coffee)</td>\n",
       "      <td>0.071346</td>\n",
       "      <td>0.475081</td>\n",
       "      <td>0.037981</td>\n",
       "      <td>0.532353</td>\n",
       "      <td>1.120551</td>\n",
       "      <td>0.004086</td>\n",
       "      <td>1.122468</td>\n",
       "    </tr>\n",
       "    <tr>\n",
       "      <th>19</th>\n",
       "      <td>(Toast)</td>\n",
       "      <td>(Coffee)</td>\n",
       "      <td>0.033365</td>\n",
       "      <td>0.475081</td>\n",
       "      <td>0.023502</td>\n",
       "      <td>0.704403</td>\n",
       "      <td>1.482699</td>\n",
       "      <td>0.007651</td>\n",
       "      <td>1.775789</td>\n",
       "    </tr>\n",
       "  </tbody>\n",
       "</table>\n",
       "</div>"
      ],
      "text/plain": [
       "    antecedents consequents  antecedent support  consequent support   support  \\\n",
       "2        (Cake)    (Coffee)            0.103137            0.475081  0.054349   \n",
       "7       (Juice)    (Coffee)            0.038296            0.475081  0.020460   \n",
       "9   (Medialuna)    (Coffee)            0.061379            0.475081  0.034939   \n",
       "11       (NONE)    (Coffee)            0.079005            0.475081  0.042073   \n",
       "12     (Pastry)    (Coffee)            0.085510            0.475081  0.047214   \n",
       "14   (Sandwich)    (Coffee)            0.071346            0.475081  0.037981   \n",
       "19      (Toast)    (Coffee)            0.033365            0.475081  0.023502   \n",
       "\n",
       "    confidence      lift  leverage  conviction  \n",
       "2     0.526958  1.109196  0.005350    1.109667  \n",
       "7     0.534247  1.124537  0.002266    1.127031  \n",
       "9     0.569231  1.198175  0.005779    1.218561  \n",
       "11    0.532537  1.120938  0.004539    1.122908  \n",
       "12    0.552147  1.162216  0.006590    1.172079  \n",
       "14    0.532353  1.120551  0.004086    1.122468  \n",
       "19    0.704403  1.482699  0.007651    1.775789  "
      ]
     },
     "execution_count": 23,
     "metadata": {},
     "output_type": "execute_result"
    }
   ],
   "source": [
    "rules[(rules[\"lift\"] > 1.1) & (rules[\"confidence\"] > 0.5) & (rules[\"support\"] > 0.02)]"
   ]
  }
 ],
 "metadata": {
  "kernelspec": {
   "display_name": "Python 3",
   "language": "python",
   "name": "python3"
  },
  "language_info": {
   "codemirror_mode": {
    "name": "ipython",
    "version": 3
   },
   "file_extension": ".py",
   "mimetype": "text/x-python",
   "name": "python",
   "nbconvert_exporter": "python",
   "pygments_lexer": "ipython3",
   "version": "3.7.4"
  }
 },
 "nbformat": 4,
 "nbformat_minor": 5
}
